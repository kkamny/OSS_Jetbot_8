{
 "cells": [
  {
   "cell_type": "markdown",
   "metadata": {},
   "source": [
    "# 1. Save_snapshot"
   ]
  },
  {
   "cell_type": "code",
   "execution_count": null,
   "metadata": {},
   "outputs": [],
   "source": [
    "from jetbot import Camera, bgr8_to_jpeg\n",
    "import traitlets\n",
    "import os\n",
    "import uuid\n",
    "import time\n",
    "import ipywidgets.widgets as widgets\n",
    "\n",
    "# 폴더 경로 설정 - 이미지를 저장할 폴더\n",
    "save_folder = './'\n",
    "if not os.path.exists(save_folder):\n",
    "    os.makedirs(save_folder)\n",
    "\n",
    "# Camera 인스턴스 생성 및 이미지 디스플레이 위젯 설정\n",
    "camera = Camera.instance(width=224, height=224)\n",
    "image = widgets.Image(format='jpeg', width=224, height=224)\n",
    "camera_link = traitlets.dlink((camera, 'value'), (image, 'value'), transform=bgr8_to_jpeg)\n",
    "\n",
    "# 이미지 저장 함수 정의\n",
    "def save_snapshot():\n",
    "    global save_folder\n",
    "    img_path = os.path.join(save_folder, 'quest.jpg')  # 이미지 이름을 무작위로 생성하여 저장\n",
    "    with open(img_path, 'wb') as f:\n",
    "        f.write(image.value)\n",
    "        \n",
    "save_snapshot()"
   ]
  },
  {
   "cell_type": "markdown",
   "metadata": {},
   "source": [
    "# 2. Buzzer"
   ]
  },
  {
   "cell_type": "code",
   "execution_count": null,
   "metadata": {},
   "outputs": [],
   "source": [
    "import RPi.GPIO as GPIO\n",
    "\n",
    "BEEP_pin = 6 # buzzer pin number\n",
    "\n",
    "GPIO.setmode(GPIO.BCM)\n",
    "GPIO.setup(BEEP_pin, GPIO.OUT, initial = GPIO.LOW) # starting option\n",
    "\n",
    "import time\n",
    "\n",
    "def Beep(beeptime):\n",
    "    GPIO.output(BEEP_pin, GPIO.HIGH) # buzzer on\n",
    "    time.sleep(beeptime) # sound time\n",
    "    GPIO.output(BEEP_pin, GPIO.LOW) # buzzer off"
   ]
  },
  {
   "cell_type": "markdown",
   "metadata": {},
   "source": [
    "# 3. Image Classifier"
   ]
  },
  {
   "cell_type": "code",
   "execution_count": null,
   "metadata": {},
   "outputs": [],
   "source": [
    "from selenium import webdriver\n",
    "from selenium.webdriver.common.keys import Keys\n",
    "import time\n",
    "\n",
    "def ImageClassifier(image_path, url) \n",
    "    # 크롬 드라이버 경로\n",
    "    chrome_driver_path = \"/usr/bin/chromedriver\" # 'https://ideal-man58.github.io/ai_testing/public/index.html'\n",
    "\n",
    "    # 크롬 옵션 설정\n",
    "    chrome_options = webdriver.ChromeOptions()\n",
    "    chrome_options.add_argument('--headless')  # 브라우저를 실제로 열지 않고 실행 (화면이 필요 없을 때 유용)\n",
    "\n",
    "    # 웹 드라이버 초기화\n",
    "    driver = webdriver.Chrome(options=chrome_options)\n",
    "\n",
    "    # 웹 페이지 열기\n",
    "    driver.get(url)\n",
    "\n",
    "    # 이미지 업로드\n",
    "    image_input.send_keys(image_path)\n",
    "\n",
    "    # 잠시 대기하여 JavaScript가 실행되도록 기다림\n",
    "    time.sleep(1)\n",
    "\n",
    "    # 결과 파싱 (결과 요소의 ID를 실제 웹 페이지에서 확인하여 입력)\n",
    "    result_element = driver.find_element(\"css selector\", \"#resultDisplay\")\n",
    "    result = result_element.text\n",
    "\n",
    "    # 웹 드라이버 종료\n",
    "    driver.quit()\n",
    "\n",
    "    result = result.split()\n",
    "    result = [result[1], result[3]]\n",
    "    print('Classification Result:', result)\n",
    "    return result\n",
    " "
   ]
  },
  {
   "cell_type": "markdown",
   "metadata": {},
   "source": [
    "# 4. Avoid Obstacle"
   ]
  },
  {
   "cell_type": "code",
   "execution_count": null,
   "metadata": {},
   "outputs": [],
   "source": [
    "def update(image_path):\n",
    "    obstacle = 'https://ideal-man58.github.io/ai_testing/public/index.html'\n",
    "    endpoint = 'https://kkamny.github.io/ai_testing/public/index.html'\n",
    "    if ('blocked' in ImageClassifier(image_path, obstacle)) :\n",
    "        if('other' in ImageClassifier(image_path, endpoint)):\n",
    "            robot.stop()\n",
    "            Beep(1)\n",
    "\n",
    "            robot.left(1)\n",
    "            time.sleep(0.27)\n",
    "            robot.stop()\n",
    "            robot.forward(2)\n",
    "            time.sleep(0.5)\n",
    "            robot.stop()\n",
    "            robot.right(1)\n",
    "            time.sleep(0.3)\n",
    "            robot.stop()\n",
    "            return 1\n",
    "            \n",
    "        else:\n",
    "            robot.stop()\n",
    "            return 0\n",
    "        \n",
    "    else :\n",
    "            robot.stop()\n",
    "            robot.forward(2)\n",
    "            time.sleep(0.5)\n",
    "            robot.stop()\n",
    "            return 1"
   ]
  },
  {
   "cell_type": "markdown",
   "metadata": {},
   "source": [
    "# 5. Start"
   ]
  },
  {
   "cell_type": "code",
   "execution_count": null,
   "metadata": {},
   "outputs": [],
   "source": [
    "while(1) :\n",
    "    save_snapshot()\n",
    "    state = update('./quest.jpg')\n",
    "    if state == 0 :\n",
    "        break"
   ]
  }
 ],
 "metadata": {
  "kernelspec": {
   "display_name": "Python 3 (ipykernel)",
   "language": "python",
   "name": "python3"
  },
  "language_info": {
   "codemirror_mode": {
    "name": "ipython",
    "version": 3
   },
   "file_extension": ".py",
   "mimetype": "text/x-python",
   "name": "python",
   "nbconvert_exporter": "python",
   "pygments_lexer": "ipython3",
   "version": "3.9.7"
  }
 },
 "nbformat": 4,
 "nbformat_minor": 4
}
